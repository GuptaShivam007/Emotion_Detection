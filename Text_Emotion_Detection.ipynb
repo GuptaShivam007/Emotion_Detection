{
 "cells": [
  {
   "cell_type": "code",
   "execution_count": 1,
   "id": "d5822675-d782-4b8d-83cd-cb12c95ba696",
   "metadata": {},
   "outputs": [],
   "source": [
    "import pandas as pd"
   ]
  },
  {
   "cell_type": "code",
   "execution_count": 9,
   "id": "83ce7842-5030-432a-85dd-a0b3c804c9ca",
   "metadata": {},
   "outputs": [
    {
     "data": {
      "text/html": [
       "<div>\n",
       "<style scoped>\n",
       "    .dataframe tbody tr th:only-of-type {\n",
       "        vertical-align: middle;\n",
       "    }\n",
       "\n",
       "    .dataframe tbody tr th {\n",
       "        vertical-align: top;\n",
       "    }\n",
       "\n",
       "    .dataframe thead th {\n",
       "        text-align: right;\n",
       "    }\n",
       "</style>\n",
       "<table border=\"1\" class=\"dataframe\">\n",
       "  <thead>\n",
       "    <tr style=\"text-align: right;\">\n",
       "      <th></th>\n",
       "      <th>Unnamed: 0</th>\n",
       "      <th>text</th>\n",
       "      <th>label</th>\n",
       "    </tr>\n",
       "  </thead>\n",
       "  <tbody>\n",
       "    <tr>\n",
       "      <th>0</th>\n",
       "      <td>0</td>\n",
       "      <td>i just feel really helpless and heavy hearted</td>\n",
       "      <td>4</td>\n",
       "    </tr>\n",
       "    <tr>\n",
       "      <th>1</th>\n",
       "      <td>1</td>\n",
       "      <td>ive enjoyed being able to slouch about relax a...</td>\n",
       "      <td>0</td>\n",
       "    </tr>\n",
       "    <tr>\n",
       "      <th>2</th>\n",
       "      <td>2</td>\n",
       "      <td>i gave up my internship with the dmrg and am f...</td>\n",
       "      <td>4</td>\n",
       "    </tr>\n",
       "    <tr>\n",
       "      <th>3</th>\n",
       "      <td>3</td>\n",
       "      <td>i dont know i feel so lost</td>\n",
       "      <td>0</td>\n",
       "    </tr>\n",
       "    <tr>\n",
       "      <th>4</th>\n",
       "      <td>4</td>\n",
       "      <td>i am a kindergarten teacher and i am thoroughl...</td>\n",
       "      <td>4</td>\n",
       "    </tr>\n",
       "  </tbody>\n",
       "</table>\n",
       "</div>"
      ],
      "text/plain": [
       "   Unnamed: 0                                               text  label\n",
       "0           0      i just feel really helpless and heavy hearted      4\n",
       "1           1  ive enjoyed being able to slouch about relax a...      0\n",
       "2           2  i gave up my internship with the dmrg and am f...      4\n",
       "3           3                         i dont know i feel so lost      0\n",
       "4           4  i am a kindergarten teacher and i am thoroughl...      4"
      ]
     },
     "execution_count": 9,
     "metadata": {},
     "output_type": "execute_result"
    }
   ],
   "source": [
    "df=pd.read_csv(r\"C:\\Users\\shiva\\Downloads\\Emotion_dataset\\text.csv\")\n",
    "df.head()"
   ]
  },
  {
   "cell_type": "code",
   "execution_count": 11,
   "id": "81af57ee-17ce-4302-a91a-cf143871d591",
   "metadata": {},
   "outputs": [
    {
     "data": {
      "text/plain": [
       "(416809, 3)"
      ]
     },
     "execution_count": 11,
     "metadata": {},
     "output_type": "execute_result"
    }
   ],
   "source": [
    "df.shape"
   ]
  },
  {
   "cell_type": "code",
   "execution_count": 13,
   "id": "72049175-ba3d-45f0-b09c-1c1cd407f984",
   "metadata": {},
   "outputs": [
    {
     "data": {
      "text/plain": [
       "label\n",
       "1    141067\n",
       "0    121187\n",
       "3     57317\n",
       "4     47712\n",
       "2     34554\n",
       "5     14972\n",
       "Name: count, dtype: int64"
      ]
     },
     "execution_count": 13,
     "metadata": {},
     "output_type": "execute_result"
    }
   ],
   "source": [
    "df.label.value_counts()"
   ]
  },
  {
   "cell_type": "code",
   "execution_count": 23,
   "id": "09ecab1e-37cb-4c6a-b797-1e2e5ad15a53",
   "metadata": {},
   "outputs": [],
   "source": [
    "#sadness (0), joy (1), love (2), anger (3), fear (4), and surprise (5).\n",
    "min_samples=14900\n",
    "df_sad=df[df.label==0].sample(min_samples,random_state=2)\n",
    "df_joy=df[df.label==1].sample(min_samples,random_state=2)\n",
    "df_love=df[df.label==2].sample(min_samples,random_state=2)\n",
    "df_anger=df[df.label==3].sample(min_samples,random_state=2)\n",
    "df_fear=df[df.label==4].sample(min_samples,random_state=2)\n",
    "df_surprise=df[df.label==5].sample(min_samples,random_state=2)\n",
    "df_balanced=pd.concat([df_sad,df_joy,df_love,df_anger,df_fear,df_surprise],axis=0)\n"
   ]
  },
  {
   "cell_type": "code",
   "execution_count": 27,
   "id": "9a9947fb-29ce-4bce-8559-319d11caedeb",
   "metadata": {},
   "outputs": [
    {
     "data": {
      "text/plain": [
       "label\n",
       "0    14900\n",
       "1    14900\n",
       "2    14900\n",
       "3    14900\n",
       "4    14900\n",
       "5    14900\n",
       "Name: count, dtype: int64"
      ]
     },
     "execution_count": 27,
     "metadata": {},
     "output_type": "execute_result"
    }
   ],
   "source": [
    "df_balanced.label.value_counts()"
   ]
  },
  {
   "cell_type": "code",
   "execution_count": 29,
   "id": "e1d403e4-72c8-41cd-9b13-ada27994cab6",
   "metadata": {},
   "outputs": [],
   "source": [
    "import spacy\n",
    "nlp=spacy.load(\"en_core_web_sm\")\n",
    "def preprocess(text):\n",
    "    doc=nlp(text)\n",
    "    filtered_tokens=[]\n",
    "    for token in doc:\n",
    "        if token.is_stop or token.is_punct:\n",
    "            continue\n",
    "        filtered_tokens.append(token.lemma_)\n",
    "    return \" \".join(filtered_tokens)\n",
    "    "
   ]
  },
  {
   "cell_type": "code",
   "execution_count": 31,
   "id": "fdcc29cf-7292-40e8-83c9-794d81e03523",
   "metadata": {},
   "outputs": [],
   "source": [
    "df_balanced['preprocessed_text']=df_balanced.text.apply(preprocess)"
   ]
  },
  {
   "cell_type": "code",
   "execution_count": 33,
   "id": "1dd23104-e7f6-454c-99fc-133d7121804b",
   "metadata": {},
   "outputs": [],
   "source": [
    "from sklearn.model_selection import train_test_split\n",
    "X_train,X_test,y_train,y_test=train_test_split(df_balanced.preprocessed_text,df_balanced.label,test_size=0.2,random_state=0,stratify=df_balanced.label)"
   ]
  },
  {
   "cell_type": "code",
   "execution_count": 47,
   "id": "72121e32-844a-4e48-a2bd-d3b15d6b8c50",
   "metadata": {},
   "outputs": [],
   "source": [
    "from sklearn.feature_extraction.text import CountVectorizer\n",
    "from sklearn.ensemble import RandomForestClassifier\n",
    "from sklearn.pipeline import Pipeline\n",
    "from sklearn.metrics import classification_report\n",
    "clf=Pipeline([\n",
    "    ('Vecorizer_BOW',CountVectorizer()),\n",
    "    ('Random_Forest',RandomForestClassifier())\n",
    "])\n",
    "clf.fit(X_train,y_train)\n",
    "y_pred=clf.predict(X_test)"
   ]
  },
  {
   "cell_type": "code",
   "execution_count": 49,
   "id": "20146dff-166f-455f-9561-bd0ad8110543",
   "metadata": {},
   "outputs": [
    {
     "name": "stdout",
     "output_type": "stream",
     "text": [
      "              precision    recall  f1-score   support\n",
      "\n",
      "           0       0.91      0.86      0.89      2980\n",
      "           1       0.90      0.82      0.86      2980\n",
      "           2       0.85      0.93      0.89      2980\n",
      "           3       0.89      0.90      0.89      2980\n",
      "           4       0.84      0.83      0.84      2980\n",
      "           5       0.87      0.91      0.89      2980\n",
      "\n",
      "    accuracy                           0.88     17880\n",
      "   macro avg       0.88      0.88      0.88     17880\n",
      "weighted avg       0.88      0.88      0.88     17880\n",
      "\n"
     ]
    }
   ],
   "source": [
    "print(classification_report(y_test,y_pred))"
   ]
  },
  {
   "cell_type": "code",
   "execution_count": 53,
   "id": "79241a98-d1c0-4a17-a1c4-67183db14886",
   "metadata": {},
   "outputs": [],
   "source": [
    "from sklearn.feature_extraction.text import TfidfVectorizer\n",
    "clf2=Pipeline([\n",
    "    ('tfidf_vectorizer',TfidfVectorizer()),\n",
    "    ('Random_Forest',RandomForestClassifier())\n",
    "])\n",
    "clf2.fit(X_train,y_train)\n",
    "y_pred2=clf2.predict(X_test)"
   ]
  },
  {
   "cell_type": "code",
   "execution_count": 55,
   "id": "cb156924-d976-4e99-a24b-5dcb2a20a894",
   "metadata": {},
   "outputs": [
    {
     "name": "stdout",
     "output_type": "stream",
     "text": [
      "              precision    recall  f1-score   support\n",
      "\n",
      "           0       0.93      0.86      0.89      2980\n",
      "           1       0.90      0.83      0.86      2980\n",
      "           2       0.85      0.93      0.89      2980\n",
      "           3       0.89      0.90      0.90      2980\n",
      "           4       0.84      0.84      0.84      2980\n",
      "           5       0.87      0.91      0.89      2980\n",
      "\n",
      "    accuracy                           0.88     17880\n",
      "   macro avg       0.88      0.88      0.88     17880\n",
      "weighted avg       0.88      0.88      0.88     17880\n",
      "\n"
     ]
    }
   ],
   "source": [
    "print(classification_report(y_test,y_pred2))"
   ]
  },
  {
   "cell_type": "code",
   "execution_count": 57,
   "id": "04835ad8-9d2e-4496-b036-f628ffc7104e",
   "metadata": {},
   "outputs": [],
   "source": [
    "from sklearn.metrics import r2_score"
   ]
  },
  {
   "cell_type": "code",
   "execution_count": 59,
   "id": "f2baf160-5950-4172-a4f1-d1e9917f944f",
   "metadata": {},
   "outputs": [
    {
     "name": "stdout",
     "output_type": "stream",
     "text": [
      "0.8169894534995206\n"
     ]
    }
   ],
   "source": [
    "print(r2_score(y_test,y_pred2))"
   ]
  },
  {
   "cell_type": "code",
   "execution_count": 61,
   "id": "652b0b9d-97fb-48a0-a83c-70f8a93ee940",
   "metadata": {},
   "outputs": [
    {
     "name": "stdout",
     "output_type": "stream",
     "text": [
      "0.811294343240652\n"
     ]
    }
   ],
   "source": [
    "print(r2_score(y_test,y_pred))"
   ]
  },
  {
   "cell_type": "code",
   "execution_count": 71,
   "id": "0bfb7619-dcd1-4d55-a8bc-ee897767845a",
   "metadata": {},
   "outputs": [],
   "source": [
    "from sklearn.naive_bayes import MultinomialNB\n",
    "from sklearn.pipeline import Pipeline\n",
    "clf3=Pipeline([\n",
    "    ('TfidVectorizer',TfidfVectorizer()),\n",
    "    ('Multinomial_NB',MultinomialNB())\n",
    "])\n",
    "clf3.fit(X_train,y_train)\n",
    "y_pred3=clf3.predict(X_test)"
   ]
  },
  {
   "cell_type": "code",
   "execution_count": 73,
   "id": "99344fce-afba-43eb-a235-b39a42463475",
   "metadata": {},
   "outputs": [
    {
     "name": "stdout",
     "output_type": "stream",
     "text": [
      "              precision    recall  f1-score   support\n",
      "\n",
      "           0       0.91      0.86      0.89      2980\n",
      "           1       0.90      0.82      0.86      2980\n",
      "           2       0.85      0.93      0.89      2980\n",
      "           3       0.89      0.90      0.89      2980\n",
      "           4       0.84      0.83      0.84      2980\n",
      "           5       0.87      0.91      0.89      2980\n",
      "\n",
      "    accuracy                           0.88     17880\n",
      "   macro avg       0.88      0.88      0.88     17880\n",
      "weighted avg       0.88      0.88      0.88     17880\n",
      "\n"
     ]
    }
   ],
   "source": [
    "print(classification_report(y_test,y_pred))"
   ]
  },
  {
   "cell_type": "code",
   "execution_count": 75,
   "id": "f1e981fd-c945-40da-9aea-f35f57fc5e25",
   "metadata": {},
   "outputs": [
    {
     "name": "stdout",
     "output_type": "stream",
     "text": [
      "0.811294343240652\n"
     ]
    }
   ],
   "source": [
    "print(r2_score(y_test,y_pred))"
   ]
  },
  {
   "cell_type": "code",
   "execution_count": null,
   "id": "502656a3-9410-4046-9d24-8eec7e02a094",
   "metadata": {},
   "outputs": [],
   "source": []
  }
 ],
 "metadata": {
  "kernelspec": {
   "display_name": "Python 3 (ipykernel)",
   "language": "python",
   "name": "python3"
  },
  "language_info": {
   "codemirror_mode": {
    "name": "ipython",
    "version": 3
   },
   "file_extension": ".py",
   "mimetype": "text/x-python",
   "name": "python",
   "nbconvert_exporter": "python",
   "pygments_lexer": "ipython3",
   "version": "3.11.7"
  }
 },
 "nbformat": 4,
 "nbformat_minor": 5
}
